{
 "cells": [
  {
   "cell_type": "code",
   "execution_count": null,
   "id": "cf411488",
   "metadata": {},
   "outputs": [],
   "source": [
    "\n"
   ]
  },
  {
   "cell_type": "code",
   "execution_count": 10,
   "id": "a525bee8",
   "metadata": {},
   "outputs": [
    {
     "name": "stdout",
     "output_type": "stream",
     "text": [
      "Let's take some time to learn about your income. Please provide the following information:\n",
      "What is your annual rental income?2000\n",
      "What is the annual income from laundry?0\n",
      "What is your annual income from storage?0\n",
      "What is your annual miscellaneous income?0\n",
      "Your total income is 2000.\n",
      "Let's take some time to learn about your expenses. Please provide the following information:\n",
      "What are your yearly taxes?150\n",
      "What are your insurance costs?100\n",
      "What are your utilities (electric/water/garbage/gas) costs?0\n",
      "What are your HOA fees?0\n",
      "What are your landscaping costs?0\n",
      "What are your vacancy costs?100\n",
      "What are your repairs costs?100\n",
      "What are your capital expenditure costs?100\n",
      "What is your property management cost?200\n",
      "What is your total mortgage?860\n",
      "Your total expenses are 1610.\n",
      "Let's learn a little more about your investment. Please provide the following information:\n",
      "What was your down payment?40000\n",
      "What was your closing cost?3000\n",
      "What was the cost of your repairs?7000\n",
      "What was your miscellaneous closing cost?0\n",
      "Your ROI is 0.0936.\n"
     ]
    }
   ],
   "source": [
    "class ROIcalculator:\n",
    "    def __init__(self):\n",
    "        self.income = 0\n",
    "        self.expenses = 0\n",
    "        self.cash_flow = 0\n",
    "        self.total_investment = 0\n",
    "        \n",
    "    def get_income(self):\n",
    "        print(\"Let's take some time to learn about your income. Please provide the following information:\")\n",
    "        rental_income = int(input(\"What is your annual rental income?\"))\n",
    "        laundry = int(input(\"What is the annual income from laundry?\"))\n",
    "        storage = int(input(\"What is your annual income from storage?\"))\n",
    "        misc_income = int(input(\"What is your annual miscellaneous income?\"))\n",
    "        self.income = rental_income + laundry + storage + misc_income\n",
    "        print(f\"Your total income is {self.income}.\")\n",
    "        \n",
    "    def get_expenses(self):\n",
    "        print(\"Let's take some time to learn about your expenses. Please provide the following information:\")\n",
    "        taxes = int(input(\"What are your yearly taxes?\"))\n",
    "        insurance = int(input(\"What are your insurance costs?\"))\n",
    "        utilities = int(input(\"What are your utilities (electric/water/garbage/gas) costs?\"))\n",
    "        hoa_fees = int(input(\"What are your HOA fees?\"))\n",
    "        landscaping = int(input(\"What are your landscaping costs?\"))\n",
    "        vacancy = int(input(\"What are your vacancy costs?\"))\n",
    "        repairs = int(input(\"What are your repairs costs?\"))\n",
    "        cap_ex = int(input(\"What are your capital expenditure costs?\"))\n",
    "        property_management = int(input(\"What is your property management cost?\"))\n",
    "        mortgage = int(input(\"What is your total mortgage?\"))\n",
    "        self.expenses = taxes + insurance + utilities + hoa_fees + landscaping + vacancy + repairs + cap_ex + property_management + mortgage\n",
    "        print(f\"Your total expenses are {self.expenses}.\")\n",
    "        \n",
    "    def total_cash_flow(self):\n",
    "        self.cash_flow = self.income - self.expenses\n",
    "        \n",
    "    def get_investment(self):\n",
    "        print(\"Let's learn a little more about your investment. Please provide the following information:\")\n",
    "        down_payment = int(input(\"What was your down payment?\"))\n",
    "        closing_costs = int(input(\"What was your closing cost?\"))\n",
    "        repair_costs = int(input(\"What was the cost of your repairs?\"))\n",
    "        misc_closing_costs = int(input(\"What was your miscellaneous closing cost?\"))\n",
    "        self.total_investment = down_payment + closing_costs + repair_costs + misc_closing_costs \n",
    "    \n",
    "    def calculate_roi(self):\n",
    "        annual_cash_flow = self.cash_flow * 12\n",
    "        roi = float(annual_cash_flow / self.total_investment)\n",
    "        print(f\"Your ROI is {roi}.\")\n",
    "\n",
    "client = ROIcalculator()\n",
    "client.get_income()\n",
    "client.get_expenses()\n",
    "client.total_cash_flow()\n",
    "client.get_investment()\n",
    "client.calculate_roi()                                                                                                                              \n"
   ]
  },
  {
   "cell_type": "code",
   "execution_count": 17,
   "id": "08f80a78",
   "metadata": {},
   "outputs": [],
   "source": []
  },
  {
   "cell_type": "code",
   "execution_count": null,
   "id": "378bb83b",
   "metadata": {},
   "outputs": [],
   "source": []
  },
  {
   "cell_type": "code",
   "execution_count": null,
   "id": "a9251ae3",
   "metadata": {},
   "outputs": [],
   "source": []
  }
 ],
 "metadata": {
  "kernelspec": {
   "display_name": "Python 3 (ipykernel)",
   "language": "python",
   "name": "python3"
  },
  "language_info": {
   "codemirror_mode": {
    "name": "ipython",
    "version": 3
   },
   "file_extension": ".py",
   "mimetype": "text/x-python",
   "name": "python",
   "nbconvert_exporter": "python",
   "pygments_lexer": "ipython3",
   "version": "3.9.13"
  }
 },
 "nbformat": 4,
 "nbformat_minor": 5
}
