{
 "cells": [
  {
   "cell_type": "code",
   "execution_count": null,
   "id": "1eff7621",
   "metadata": {},
   "outputs": [],
   "source": [
    "#create empty shopping cart \n",
    "shopping_cart = []\n",
    "\n",
    "#create global dictionary of items to cut back on mess\n",
    "item_prices = {'apple': 0.5, 'banana': 0.25, 'bread': 1.5, 'milk': 2.0}\n",
    "\n",
    "#create function to calculate the total for receipt \n",
    "def calculate_total(shopping_cart):\n",
    "    total_cost = 0\n",
    "    total_items = len(shopping_cart)\n",
    "    for item in shopping_cart:\n",
    "        total_cost += item_prices.get(item, 0)\n",
    "    return (total_cost, total_items)\n",
    "\n",
    "#establish loop \n",
    "while True:\n",
    "    #get user input \n",
    "    user_input = input('''Enter 'add' to add an item,\n",
    "'delete' to remove an item,\n",
    "'show' to view the current shopping list,\n",
    "or 'quit' to exit:\n",
    "''')\n",
    "\n",
    "    \n",
    "    #give user options \n",
    "    if user_input == \"add\":\n",
    "        item = input(\"Enter the item to add: 'apple', or 'orange', or 'bread', or 'milk'?\")\n",
    "        if item in item_prices:\n",
    "            shopping_cart.append(item)\n",
    "        else:\n",
    "            print(\"Please enter 'apple', or 'orange', or 'bread', or 'milk'.\")\n",
    "    elif user_input == \"delete\":\n",
    "        item = input(\"Enter the item to remove: 'apple', or 'orange', or 'bread', or 'milk'? \")\n",
    "        if item in shopping_cart:\n",
    "            shopping_cart.remove(item)\n",
    "        else:\n",
    "            print(\"Item not found in shopping cart.\")\n",
    "    elif user_input == \"show\":\n",
    "        print(\"Current shopping list: \", shopping_cart)\n",
    "    elif user_input == \"quit\":\n",
    "        #calculatation for receipt \n",
    "        total_cost, total_items = calculate_total(shopping_cart)\n",
    "        \n",
    "        # print the receipt\n",
    "        print(\"Receipt:\")\n",
    "        for item in shopping_cart:\n",
    "            print(f\"\\t{item}: ${item_prices.get(item, 0)}\")\n",
    "        print(f\"\\tTotal: ${total_cost:.2f}\")\n",
    "        print(f\"\\tQuantity: {total_items}\")\n",
    "        #break loop\n",
    "        break\n",
    "    else:\n",
    "        print(\"Invalid input. Please try again.\")\n"
   ]
  },
  {
   "cell_type": "code",
   "execution_count": null,
   "id": "f9e8f8ba",
   "metadata": {},
   "outputs": [],
   "source": []
  },
  {
   "cell_type": "code",
   "execution_count": null,
   "id": "30870f94",
   "metadata": {},
   "outputs": [],
   "source": []
  }
 ],
 "metadata": {
  "kernelspec": {
   "display_name": "Python 3 (ipykernel)",
   "language": "python",
   "name": "python3"
  },
  "language_info": {
   "codemirror_mode": {
    "name": "ipython",
    "version": 3
   },
   "file_extension": ".py",
   "mimetype": "text/x-python",
   "name": "python",
   "nbconvert_exporter": "python",
   "pygments_lexer": "ipython3",
   "version": "3.9.13"
  }
 },
 "nbformat": 4,
 "nbformat_minor": 5
}
